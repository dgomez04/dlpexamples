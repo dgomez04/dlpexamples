{
 "cells": [
  {
   "cell_type": "markdown",
   "metadata": {},
   "source": [
    "## Predicting House Prices using Regression Model with Boston Housing Price Dataset\n"
   ]
  },
  {
   "cell_type": "code",
   "execution_count": 1,
   "metadata": {},
   "outputs": [
    {
     "name": "stderr",
     "output_type": "stream",
     "text": [
      "2023-08-25 20:14:21.454324: I tensorflow/tsl/cuda/cudart_stub.cc:28] Could not find cuda drivers on your machine, GPU will not be used.\n",
      "2023-08-25 20:14:21.496616: I tensorflow/tsl/cuda/cudart_stub.cc:28] Could not find cuda drivers on your machine, GPU will not be used.\n",
      "2023-08-25 20:14:21.497592: I tensorflow/core/platform/cpu_feature_guard.cc:182] This TensorFlow binary is optimized to use available CPU instructions in performance-critical operations.\n",
      "To enable the following instructions: AVX2, in other operations, rebuild TensorFlow with the appropriate compiler flags.\n",
      "2023-08-25 20:14:22.653425: W tensorflow/compiler/tf2tensorrt/utils/py_utils.cc:38] TF-TRT Warning: Could not find TensorRT\n"
     ]
    },
    {
     "name": "stdout",
     "output_type": "stream",
     "text": [
      "Downloading data from https://storage.googleapis.com/tensorflow/tf-keras-datasets/boston_housing.npz\n",
      "57026/57026 [==============================] - 0s 3us/step\n"
     ]
    }
   ],
   "source": [
    "from tensorflow.keras.datasets import boston_housing\n",
    "(train_data, train_targets), (test_data, test_targets) = (boston_housing.load_data())"
   ]
  },
  {
   "cell_type": "markdown",
   "metadata": {},
   "source": [
    "## Data Preprocessing: Feature Scaling\n",
    "\n",
    "In preparation for training the regression model, we need to perform feature scaling to ensure that the features are on similar scales. This step can enhance the performance of the model and prevent certain features from dominating others due to their larger magnitudes.\n",
    "\n",
    "We'll use the NumPy library to compute the mean and standard deviation of the training data, and then scale both the training and test data accordingly.\n",
    "\n"
   ]
  },
  {
   "cell_type": "code",
   "execution_count": 2,
   "metadata": {},
   "outputs": [],
   "source": [
    "import numpy as np\n",
    "\n",
    "mean = train_data.mean(axis=0)\n",
    "train_data -= mean\n",
    "std = train_data.std(axis=0)\n",
    "train_data /= std\n",
    "test_data -= mean\n",
    "test_data /= std"
   ]
  },
  {
   "cell_type": "markdown",
   "metadata": {},
   "source": [
    "## Building a Regression Model with Keras\n",
    "\n",
    "This code defines a function `build_model()` to create a regression model using the Keras library. The model architecture consists of three layers:\n",
    "\n",
    "1. **Dense Layer with ReLU Activation (64 units)**: The first hidden layer contains 64 units and uses the Rectified Linear Unit (ReLU) activation function. ReLU is commonly used to introduce non-linearity in neural networks.\n",
    "\n",
    "2. **Dense Layer with ReLU Activation (64 units)**: The second hidden layer, also with 64 units and ReLU activation, further captures complex relationships in the data.\n",
    "\n",
    "3. **Dense Layer (1 unit)**: The output layer has a single unit, which is typical for regression tasks. It produces a continuous numeric output.\n",
    "\n",
    "The model is compiled with the 'rmsprop' optimizer and the mean squared error (MSE) loss function. The Mean Absolute Error (MAE) is chosen as a metric to monitor during training.\n",
    "\n",
    "Overall, this architecture is a simple yet effective choice for predicting house prices based on the Boston Housing Price dataset.\n"
   ]
  },
  {
   "cell_type": "code",
   "execution_count": 3,
   "metadata": {},
   "outputs": [],
   "source": [
    "from tensorflow.keras import models\n",
    "from tensorflow.keras import layers\n",
    "from tensorflow import keras\n",
    "\n",
    "def build_model() :\n",
    "    model = keras.Sequential()\n",
    "    model.add(layers.Dense(64, activation='relu'))\n",
    "    model.add(layers.Dense(64, activation='relu'))\n",
    "    model.add(layers.Dense(1))\n",
    "\n",
    "    model.compile(optimizer='rmsprop', loss='mse', metrics=['mae'])\n",
    "    return model"
   ]
  },
  {
   "cell_type": "markdown",
   "metadata": {},
   "source": [
    "## K-Fold Cross Validation for Model Evaluation\n",
    "\n",
    "In this code snippet, we implement K-Fold Cross Validation to evaluate the performance of the regression model using the Boston Housing Price dataset. K-Fold Cross Validation is a technique that helps assess model performance on multiple validation sets to ensure robustness.\n",
    "\n",
    "Here's a breakdown of the steps:\n",
    "\n",
    "1. Set `k` to 4: We choose to perform 4-fold cross validation, dividing the training data into four subsets.\n",
    "\n",
    "2. Calculate the number of validation samples: We calculate the number of samples in each validation fold by dividing the length of the training data by `k`.\n",
    "\n",
    "3. Initialize variables: We set the number of training epochs (`num_epochs`) to 100 and create an empty list `all_scores` to store the Mean Absolute Error (MAE) scores for each fold.\n",
    "\n",
    "4. Iterate over folds: For each fold `i` from 0 to `k-1`:\n",
    "   - Create validation data and targets: We extract the validation data and targets for the current fold.\n",
    "   - Create partial training data and targets: We concatenate the training data and targets from all other folds except the current one to create the partial training data.\n",
    "   - Build and train the model: We create a new instance of the regression model using the `build_model()` function and train it on the partial training data.\n",
    "   - Evaluate the model: We evaluate the model's performance on the validation data and compute the Mean Absolute Error (MAE).\n",
    "   - Store the MAE score: We append the MAE score to the `all_scores` list.\n",
    "\n",
    "5. Calculate the average MAE: After iterating through all folds, we calculate the average MAE score by taking the mean of all the stored MAE scores using `np.mean(all_scores)`.\n",
    "\n",
    "The calculated average MAE is approximately 2.31, which indicates that, on average, the model's predictions are off by around $2300. This significant margin suggests that further improvements may be needed to enhance the predictive accuracy of the model.\n"
   ]
  },
  {
   "cell_type": "code",
   "execution_count": 14,
   "metadata": {},
   "outputs": [
    {
     "name": "stdout",
     "output_type": "stream",
     "text": [
      "processing fold # 0\n",
      "processing fold # 1\n",
      "processing fold # 2\n",
      "processing fold # 3\n"
     ]
    },
    {
     "data": {
      "text/plain": [
       "2.3103790283203125"
      ]
     },
     "execution_count": 14,
     "metadata": {},
     "output_type": "execute_result"
    }
   ],
   "source": [
    "k = 4\n",
    "num_val_samples = len(train_data) // k\n",
    "num_epochs = 100\n",
    "all_scores = []\n",
    "\n",
    "for i in range(k) :\n",
    "    print('processing fold #', i)\n",
    "    val_data = train_data[i * num_val_samples : (i + 1) * num_val_samples]\n",
    "    val_targets = train_targets[i * num_val_samples : (i + 1) * num_val_samples]\n",
    "\n",
    "    partial_train_data = np.concatenate(\n",
    "        [train_data[: i * num_val_samples],\n",
    "        train_data[(i + 1) * num_val_samples :]],\n",
    "        axis=0\n",
    "    )\n",
    "    partial_train_targets = np.concatenate(\n",
    "        [train_targets[: i * num_val_samples],\n",
    "        train_targets[(i + 1) * num_val_samples :]],\n",
    "        axis=0\n",
    "    )\n",
    "\n",
    "    model = build_model()\n",
    "    model.fit(partial_train_data, partial_train_targets,\n",
    "        epochs=num_epochs, batch_size=16, verbose=0)\n",
    "\n",
    "    val_mse, val_mae = model.evaluate(val_data, val_targets, verbose=0)\n",
    "    all_scores.append(val_mae)\n",
    "\n",
    "np.mean(all_scores)"
   ]
  },
  {
   "cell_type": "markdown",
   "metadata": {},
   "source": [
    "## Retraining the Model\n",
    "\n",
    "In this section, we explore the effect of retraining the regression model with a higher number of epochs on its performance. The code snippet demonstrates the process of training the model using K-Fold Cross Validation, but this time with a larger number of epochs.\n",
    "\n",
    "Here's an overview of the steps taken:\n",
    "\n",
    "1. Increase the number of epochs: The variable `num_epochs` is set to 500, which is a substantial increase compared to the previous 100 epochs.\n",
    "\n",
    "2. Initialize a history list: We create an empty list `all_mae_histories` to store the Mean Absolute Error (MAE) history for each fold. This allows us to track how the model's validation performance changes over epochs.\n",
    "\n",
    "3. Iterate over folds: Similar to the previous code, we iterate over each fold:\n",
    "   - Create validation data and targets.\n",
    "   - Create partial training data and targets.\n",
    "   - Build and train the model on the partial training data, this time specifying the validation data for monitoring during training.\n",
    "   - Extract the MAE history from the training history and append it to `all_mae_histories`.\n",
    "\n",
    "By retraining the model with 500 epochs and collecting the MAE history, we can observe how the model's performance evolves over time. This information is valuable for understanding whether the model continues to learn and improve with more training epochs.\n",
    "\n",
    "Keep in mind that increasing the number of epochs can lead to overfitting if not monitored properly. Further analysis, such as tracking training and validation loss, can help identify the optimal number of epochs for training without overfitting.\n",
    "\n"
   ]
  },
  {
   "cell_type": "code",
   "execution_count": 15,
   "metadata": {},
   "outputs": [
    {
     "name": "stdout",
     "output_type": "stream",
     "text": [
      "processing fold # 0\n",
      "processing fold # 1\n",
      "processing fold # 2\n",
      "processing fold # 3\n"
     ]
    }
   ],
   "source": [
    "num_epochs = 500\n",
    "all_mae_histories = []\n",
    "\n",
    "for i in range(k) :\n",
    "    print('processing fold #', i)\n",
    "    val_data = train_data[i * num_val_samples : (i + 1) * num_val_samples]\n",
    "    val_targets = train_targets[i * num_val_samples : (i + 1) * num_val_samples]\n",
    "\n",
    "    partial_train_data = np.concatenate(\n",
    "        [train_data[: i * num_val_samples],\n",
    "        train_data[(i + 1) * num_val_samples :]],\n",
    "        axis=0\n",
    "    )\n",
    "    partial_train_targets = np.concatenate(\n",
    "        [train_targets[: i * num_val_samples],\n",
    "        train_targets[(i + 1) * num_val_samples :]],\n",
    "        axis=0\n",
    "    )\n",
    "\n",
    "    model = build_model()\n",
    "    history = model.fit(partial_train_data, partial_train_targets,\n",
    "        validation_data=(val_data, val_targets),\n",
    "        epochs=num_epochs, batch_size=16, verbose=0)\n",
    "\n",
    "    mae_history = history.history['val_mae']\n",
    "    all_mae_histories.append(mae_history)"
   ]
  },
  {
   "cell_type": "markdown",
   "metadata": {},
   "source": [
    "## Visualizing the Evolution of Validation MAE\n",
    "\n",
    "To gain insight into how the validation Mean Absolute Error (MAE) changes over epochs, we visualize the average validation MAE history using a line plot.\n",
    "\n",
    "Here's an overview of the steps taken:\n",
    "\n",
    "1. Compute the average MAE history: The variable `average_mae_history` is computed by taking the mean of the MAE values at each epoch across all folds. This provides a consolidated view of how the validation MAE changes over the training process.\n",
    "\n",
    "2. Create the line plot: We use the `matplotlib` library to create a line plot. The x-axis represents the number of epochs, and the y-axis represents the average validation MAE. This plot helps us identify trends and patterns in the model's performance.\n",
    "\n",
    "3. Customize the plot: We set the x-label as \"Epochs\" and the y-label as \"Validation MAE\" to provide context for the axes. The plot is displayed using `plt.show()`.\n",
    "\n",
    "However, it's worth noting that the first 10 data points on the plot might be on a different scale compared to the rest. To ensure a clearer view of the main trends, we proceed to omit these first 10 data points.\n",
    "\n",
    "By visualizing the validation MAE history, we can assess whether the model's performance stabilizes or continues to improve over epochs, helping us make informed decisions about training duration and potential adjustments.\n"
   ]
  },
  {
   "cell_type": "code",
   "execution_count": 16,
   "metadata": {},
   "outputs": [
    {
     "data": {
      "image/png": "[encoded data removed]",
      "text/plain": [
       "<Figure size 640x480 with 1 Axes>"
      ]
     },
     "metadata": {},
     "output_type": "display_data"
    }
   ],
   "source": [
    "import matplotlib.pyplot as plt\n",
    "\n",
    "average_mae_history = [\n",
    "    np.mean([x[i] for x in all_mae_histories]) for i in range(num_epochs)\n",
    "]\n",
    "\n",
    "plt.plot(range(1, len(average_mae_history) + 1), average_mae_history)\n",
    "plt.xlabel('Epochs')\n",
    "plt.ylabel('Validation MAE')\n",
    "plt.show()\n",
    "\n",
    "\n"
   ]
  },
  {
   "cell_type": "markdown",
   "metadata": {},
   "source": [
    "## Observing Model Improvement and Plateau\n",
    "\n",
    "In this section, we visually explore how the validation Mean Absolute Error (MAE) evolves over training epochs. We use a line plot to illustrate the progression of the model's performance.\n",
    "\n",
    "Here's what the code and the plot demonstrate:\n",
    "\n",
    "1. Truncate the MAE history: We initially calculate the average MAE history across all epochs. To enhance the clarity of the plot, we omit the first 10 data points, which might be on a different scale compared to the rest.\n",
    "\n",
    "2. Create the line plot: Utilizing the `matplotlib` library, we generate a line plot. The x-axis represents the number of epochs, and the y-axis represents the average validation MAE.\n",
    "\n",
    "3. Interpretation of the plot: Upon observing the truncated MAE history plot, we can discern significant information about the model's behavior during training. Particularly, within the initial epochs, we notice a swift reduction in the validation MAE. This signals that the model is quickly learning and adapting to the training data.\n",
    "\n",
    "However, the most crucial insight comes when observing the subsequent epochs. At approximately 120-140 epochs, the validation MAE plateaus, indicating that the model's improvement slows down. This signifies that additional training beyond this point might not substantially enhance the model's predictive performance. Going further could even lead to overfitting, where the model becomes too specialized for the training data and performs poorly on new data.\n",
    "\n",
    "By recognizing the point at which the model's improvement plateaus, we can make informed decisions about the optimal number of training epochs. This balance ensures that the model generalizes well to new data without being overly specialized to the training set.\n"
   ]
  },
  {
   "cell_type": "code",
   "execution_count": 17,
   "metadata": {},
   "outputs": [
    {
     "data": {
      "image/png": "[encoded data removed]",
      "text/plain": [
       "<Figure size 640x480 with 1 Axes>"
      ]
     },
     "metadata": {},
     "output_type": "display_data"
    }
   ],
   "source": [
    "truncated_mae_history = average_mae_history[10:]\n",
    "plt.plot(range(1, len(truncated_mae_history) + 1), truncated_mae_history)\n",
    "plt.xlabel('Epochs')\n",
    "plt.ylabel('Validation MAE')\n",
    "plt.show()\n"
   ]
  },
  {
   "cell_type": "markdown",
   "metadata": {},
   "source": [
    "## Final Model Evaluation\n",
    "\n",
    "After iteratively exploring different training configurations and observing the model's behavior, we arrive at a final training setup to evaluate the regression model's performance.\n",
    "\n",
    "Here's what the final steps entail:\n",
    "\n",
    "1. Build the model: We use the `build_model()` function to create the regression model.\n",
    "\n",
    "2. Training the model: We fit the model on the entire training dataset using the final configuration. In this instance, the model is trained for 130 epochs with a batch size of 16. The training process doesn't produce verbose output (verbose=0), keeping the display concise.\n",
    "\n",
    "3. Evaluate on test data: After training, we evaluate the model's performance on the test dataset. The evaluation provides us with a Mean Absolute Error (MAE) score that quantifies how closely the model's predictions match the actual test targets.\n",
    "\n",
    "After evaluating the model on the test data, we find that the MAE score is approximately $2360. This indicates that the model's predictions are, on average, off by around $2360. Despite the efforts to explore various training configurations and analyze the validation MAE trends, we've encountered limitations in improving the predictive accuracy of the model further.\n",
    "\n",
    "While the model's performance may not have reached the desired level, this evaluation provides valuable insights into the model's capabilities and its generalization to new, unseen data. Further refinement and experimentation may be explored to address the challenges encountered during training.\n"
   ]
  },
  {
   "cell_type": "code",
   "execution_count": 29,
   "metadata": {},
   "outputs": [
    {
     "name": "stdout",
     "output_type": "stream",
     "text": [
      "4/4 [==============================] - 0s 3ms/step - loss: 14.2023 - mae: 2.3654\n"
     ]
    },
    {
     "data": {
      "text/plain": [
       "2.365386724472046"
      ]
     },
     "execution_count": 29,
     "metadata": {},
     "output_type": "execute_result"
    }
   ],
   "source": [
    "model = build_model()\n",
    "\n",
    "model.fit(train_data, train_targets, epochs=130, batch_size=16, verbose=0)\n",
    "\n",
    "test_mse_score, test_mae_score = model.evaluate(test_data, test_targets)\n",
    "\n",
    "test_mae_score"
   ]
  },
  {
   "cell_type": "markdown",
   "metadata": {},
   "source": [
    "## Conclusions and Key Takeaways\n",
    "\n",
    "In the journey of developing a regression model to predict house prices using the Boston Housing Price dataset, we've explored various aspects of model training, evaluation, and best practices. Here are the key takeaways from our exploration:\n",
    "\n",
    "1. **Loss Functions in Regression**: Regression tasks involve predicting continuous values, and different loss functions can be used to measure the model's performance. Mean Squared Error (MSE) is a commonly used loss function for regression tasks, which computes the average of the squared differences between predicted and actual values.\n",
    "\n",
    "2. **Evaluation Metrics for Regression**: In regression tasks, evaluation metrics such as Mean Absolute Error (MAE) and Root Mean Squared Error (RMSE) are widely used to quantify the model's predictive accuracy. MAE represents the average absolute difference between predictions and actual values, while RMSE provides a measure of the typical prediction error.\n",
    "\n",
    "3. **Feature Scaling and Normalization**: When features have varying ranges or units, independent scaling is crucial. Normalizing features ensures that they are on similar scales, preventing certain features from dominating others during model training.\n",
    "\n",
    "4. **K-Fold Cross Validation**: K-Fold Cross Validation is a robust technique for model evaluation, particularly when there is limited data available. It involves dividing the dataset into 'k' subsets, training the model on 'k-1' subsets, and validating on the remaining subset. This approach helps assess the model's performance across different validation sets.\n",
    "\n",
    "5. **Model Complexity and Overfitting**: In cases of limited data availability, it's advisable to use a simpler model architecture to prevent overfitting. A small model with few intermediate layers can generalize better when training data is scarce.\n",
    "\n",
    "Throughout this exploration, we've gained insights into the importance of choosing appropriate loss functions, evaluation metrics, feature scaling, and model complexity when working on regression tasks. While our efforts might not have resulted in the desired predictive accuracy, the process has provided us with valuable insights that can guide future improvements and refinements.\n",
    "\n",
    "As the field of machine learning continues to evolve, these insights remain foundational for building effective regression models and addressing challenges associated with limited data and predictive accuracy.\n"
   ]
  }
 ],
 "metadata": {
  "kernelspec": {
   "display_name": ".venv",
   "language": "python",
   "name": "python3"
  },
  "language_info": {
   "codemirror_mode": {
    "name": "ipython",
    "version": 3
   },
   "file_extension": ".py",
   "mimetype": "text/x-python",
   "name": "python",
   "nbconvert_exporter": "python",
   "pygments_lexer": "ipython3",
   "version": "3.10.12"
  },
  "orig_nbformat": 4
 },
 "nbformat": 4,
 "nbformat_minor": 2
}
