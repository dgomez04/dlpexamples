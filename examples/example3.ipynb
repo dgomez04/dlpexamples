{
 "cells": [
  {
   "cell_type": "markdown",
   "metadata": {},
   "source": [
    "## Binary Classification on IMDb Dataset\n",
    "\n",
    "The provided code demonstrates binary classification on the IMDb dataset, aiming to distinguish between positive and negative reviews. Here's a concise explanation:\n",
    "\n",
    "- The `imdb.load_data` function is used to load the IMDb movie reviews dataset. The parameter `num_words` limits the vocabulary size to the most frequent 10,000 words, ensuring manageable input data.\n",
    "\n",
    "- The dataset is divided into training and testing subsets. `train_data` and `train_labels` contain the training reviews and their corresponding labels (0 for negative, 1 for positive).\n",
    "\n",
    "- Similarly, `test_data` and `test_labels` store the testing reviews and labels, allowing the model's performance to be evaluated on unseen data.\n",
    "\n",
    "This code sets the stage for a binary classification task where the model learns to classify movie reviews as positive or negative based on their textual content."
   ]
  },
  {
   "cell_type": "code",
   "execution_count": 3,
   "metadata": {},
   "outputs": [
    {
     "name": "stderr",
     "output_type": "stream",
     "text": [
      "2023-08-25 14:41:38.968607: I tensorflow/tsl/cuda/cudart_stub.cc:28] Could not find cuda drivers on your machine, GPU will not be used.\n",
      "2023-08-25 14:41:39.475373: I tensorflow/tsl/cuda/cudart_stub.cc:28] Could not find cuda drivers on your machine, GPU will not be used.\n",
      "2023-08-25 14:41:39.478552: I tensorflow/core/platform/cpu_feature_guard.cc:182] This TensorFlow binary is optimized to use available CPU instructions in performance-critical operations.\n",
      "To enable the following instructions: AVX2, in other operations, rebuild TensorFlow with the appropriate compiler flags.\n",
      "2023-08-25 14:41:41.842389: W tensorflow/compiler/tf2tensorrt/utils/py_utils.cc:38] TF-TRT Warning: Could not find TensorRT\n"
     ]
    }
   ],
   "source": [
    "from tensorflow.keras.datasets import imdb\n",
    "(train_data, train_labels), (test_data, test_labels) = imdb.load_data(num_words=10000)"
   ]
  },
  {
   "cell_type": "markdown",
   "metadata": {},
   "source": [
    "## Decoding IMDb Review\n",
    "\n",
    "The following code snippet decodes an IMDb review from its integer-encoded format back into human-readable text. Here's a concise explanation:\n",
    "\n",
    "- `word_index` is obtained using `imdb.get_word_index()`. This dictionary maps words to their integer indices in the IMDb dataset.\n",
    "\n",
    "- `reverse_word_index` is created by reversing the `word_index` dictionary, mapping integer indices back to words.\n",
    "\n",
    "- A specific review, in this case, `train_data[0]`, is taken from the training dataset.\n",
    "\n",
    "- The list comprehension `[reverse_word_index.get(i - 3, '?') for i in train_data[0]]` decodes the review by converting each integer index in the review to its corresponding word using the `reverse_word_index`. An offset of 3 is subtracted to handle reserved indices, and any unknown words are represented as `?`.\n",
    "\n",
    "- The decoded words are then joined into a single string, representing the human-readable version of the original review.\n",
    "\n",
    "This process allows us to understand the content of a review that has been transformed into a sequence of integer indices."
   ]
  },
  {
   "cell_type": "code",
   "execution_count": 4,
   "metadata": {},
   "outputs": [],
   "source": [
    "word_index = imdb.get_word_index()\n",
    "\n",
    "reverse_word_index = dict([(value, key) for (key, value) in word_index.items()])\n",
    "\n",
    "decoded_review = ' '.join([reverse_word_index.get(i - 3, '?') for i in train_data[0]])"
   ]
  },
  {
   "cell_type": "markdown",
   "metadata": {},
   "source": [
    "## Vectorizing Data for Model Input\n",
    "\n",
    "- The `vectorize_sequences` function is defined to convert sequences of integers into a binary matrix. The `dimension` parameter specifies the size of the vocabulary.\n",
    "\n",
    "- For each sequence in the input `sequences`, a binary matrix is created with dimensions `(len(sequences), dimension)`. Each row of the matrix corresponds to a sequence, and the columns represent the vocabulary words.\n",
    "\n",
    "- In each row, the indices specified by the sequence are set to 1, indicating the presence of those words in the text.\n",
    "\n",
    "- The resulting binary matrix, representing the vectorized sequences, is returned by the function.\n",
    "\n",
    "- `x_train` and `x_test` are obtained by applying the `vectorize_sequences` function to the training and testing data, respectively.\n",
    "\n",
    "- `y_train` and `y_test` are created by converting the label arrays (`train_labels` and `test_labels`) to `float32` data type using `np.asarray`.\n",
    "\n",
    "This preprocessing step prepares the textual data in a format suitable for input into a neural network model, where each review is represented as a binary vector encoding the presence of words from the vocabulary."
   ]
  },
  {
   "cell_type": "code",
   "execution_count": 5,
   "metadata": {},
   "outputs": [],
   "source": [
    "import numpy as np\n",
    "\n",
    "def vectorize_sequences(sequences, dimension=10000):\n",
    "    results = np.zeros((len(sequences), dimension))\n",
    "    for i, sequence in enumerate(sequences):\n",
    "        results[i, sequence] = 1\n",
    "    return results\n",
    "\n",
    "x_train = vectorize_sequences(train_data)\n",
    "\n",
    "x_test = vectorize_sequences(test_data)\n",
    "\n",
    "y_train = np.asarray(train_labels).astype('float32')\n",
    "\n",
    "y_test = np.asarray(test_labels).astype('float32')"
   ]
  },
  {
   "cell_type": "markdown",
   "metadata": {},
   "source": [
    "## Neural Network Architecture\n",
    "\n",
    "- The `model` is created as a `keras.Sequential` object, representing a linear stack of layers.\n",
    "\n",
    "- Four fully connected (`Dense`) layers are added to the model. Each layer has 64 units and uses the ReLU activation function (`activation='relu'`). The ReLU activation function introduces non-linearity to the model, allowing it to learn complex patterns in the data.\n",
    "\n",
    "- The final `Dense` layer consists of a single unit and uses the sigmoid activation function (`activation='sigmoid'`). This layer is often used in binary classification tasks to output probabilities between 0 and 1, indicating the likelihood of a positive class.\n",
    "\n",
    "This architecture defines a deep neural network with multiple hidden layers, which can capture intricate relationships in the data. It concludes with a sigmoid-activated output layer that provides a probability estimate for binary classification."
   ]
  },
  {
   "cell_type": "code",
   "execution_count": 32,
   "metadata": {},
   "outputs": [],
   "source": [
    "from tensorflow import keras\n",
    "from tensorflow.keras import layers \n",
    "\n",
    "model = keras.Sequential([\n",
    "    layers.Dense(64, activation='relu'),\n",
    "    layers.Dense(64, activation='relu'),\n",
    "    layers.Dense(64, activation='relu'),\n",
    "    layers.Dense(1, activation='sigmoid')\n",
    "])\n",
    "\n"
   ]
  },
  {
   "cell_type": "markdown",
   "metadata": {},
   "source": [
    "## Compiling the Model\n",
    "\n",
    "- The `compile` method is called on the `model` object to configure its training process.\n",
    "\n",
    "- The `optimizer` is set to `'rmsprop'`, which stands for Root Mean Square Propagation. This optimizer adjusts the learning rate during training to improve convergence speed and accuracy.\n",
    "\n",
    "- The `loss` function is specified as `'binary_crossentropy'`. This loss function is commonly used for binary classification tasks and measures the difference between predicted probabilities and actual labels.\n",
    "\n",
    "- The `metrics` parameter is set to `['accuracy']`, indicating that the accuracy metric should be computed during training to evaluate model performance.\n",
    "\n",
    "This compilation step prepares the model for training by defining the optimization algorithm, loss function, and evaluation metrics."
   ]
  },
  {
   "cell_type": "code",
   "execution_count": 33,
   "metadata": {},
   "outputs": [],
   "source": [
    "model.compile(optimizer='rmsprop',\n",
    "                loss='binary_crossentropy',\n",
    "                metrics=['accuracy'])"
   ]
  },
  {
   "cell_type": "markdown",
   "metadata": {},
   "source": [
    "## Data Splitting for Validation\n",
    "\n",
    "- `x_val` is obtained by selecting the first 10,000 samples from `x_train`. This subset will be used for validation during training to monitor the model's performance on unseen data.\n",
    "\n",
    "- `partial_x_train` is obtained by excluding the first 10,000 samples from `x_train`. This subset will be used for partial training, allowing the model to learn from a larger portion of the training data.\n",
    "\n",
    "- Similarly, `y_val` and `partial_y_train` are created by splitting the corresponding label arrays, `y_train`, in the same manner.\n",
    "\n",
    "This splitting strategy ensures that the model is trained on a larger portion of the data while still having a separate subset for validation, aiding in tuning hyperparameters and detecting overfitting."
   ]
  },
  {
   "cell_type": "code",
   "execution_count": 34,
   "metadata": {},
   "outputs": [],
   "source": [
    "x_val = x_train[:10000]\n",
    "partial_x_train = x_train[10000:]\n",
    "\n",
    "y_val = y_train[:10000]\n",
    "partial_y_train = y_train[10000:]"
   ]
  },
  {
   "cell_type": "markdown",
   "metadata": {},
   "source": [
    "## Model Training\n",
    "\n",
    "- The `fit` method is called on the `model` object to initiate the training process.\n",
    "\n",
    "- `partial_x_train` and `partial_y_train` are used as the training data and labels, respectively. These subsets were created earlier for partial training.\n",
    "\n",
    "- The `epochs` parameter is set to 4, indicating that the model will be trained for a total of 4 iterations through the training data.\n",
    "\n",
    "- The `batch_size` parameter is set to 512, determining the number of samples used in each iteration of the training process.\n",
    "\n",
    "- The `validation_data` parameter is provided as `(x_val, y_val)`, representing the validation data and labels. The model's performance on this validation set will be monitored during training.\n",
    "\n",
    "The `fit` method trains the model, adjusting its parameters based on the training data and minimizing the specified loss function. The validation data helps in monitoring potential overfitting and gauging the model's generalization ability."
   ]
  },
  {
   "cell_type": "code",
   "execution_count": 35,
   "metadata": {},
   "outputs": [
    {
     "name": "stdout",
     "output_type": "stream",
     "text": [
      "Epoch 1/4\n",
      "30/30 [==============================] - 3s 68ms/step - loss: 0.5305 - accuracy: 0.7279 - val_loss: 0.4136 - val_accuracy: 0.8210\n",
      "Epoch 2/4\n",
      "30/30 [==============================] - 1s 48ms/step - loss: 0.3068 - accuracy: 0.8839 - val_loss: 0.2921 - val_accuracy: 0.8821\n",
      "Epoch 3/4\n",
      "30/30 [==============================] - 1s 44ms/step - loss: 0.2317 - accuracy: 0.9141 - val_loss: 0.2758 - val_accuracy: 0.8880\n",
      "Epoch 4/4\n",
      "30/30 [==============================] - 1s 44ms/step - loss: 0.1798 - accuracy: 0.9323 - val_loss: 0.2900 - val_accuracy: 0.8842\n"
     ]
    }
   ],
   "source": [
    "history = model.fit(partial_x_train,\n",
    "                    partial_y_train,\n",
    "                    epochs=4,\n",
    "                    batch_size=512,\n",
    "                    validation_data=(x_val, y_val))"
   ]
  },
  {
   "cell_type": "markdown",
   "metadata": {},
   "source": [
    "## Visualizing Training and Validation Loss\n",
    "\n",
    "- The `history_dict` variable contains the training history recorded during the training process, which includes the training and validation loss values for each epoch.\n",
    "\n",
    "- `loss_values` and `val_loss_values` are extracted from the `history_dict` to access the training loss and validation loss values, respectively.\n",
    "\n",
    "- The x-axis of the plot represents the number of epochs, and the y-axis represents the loss values.\n",
    "\n",
    "- Blue dots (`'bo'`) depict the training loss at each epoch, while a blue solid line (`'b'`) represents the validation loss.\n",
    "\n",
    "- The plot's title is omitted for brevity, but typically it would indicate the loss trends during training.\n",
    "\n",
    "By visualizing the training and validation loss, you can gain insights into the model's performance and whether it is overfitting or underfitting. The convergence and divergence of the loss curves provide valuable information about the effectiveness of the training process."
   ]
  },
  {
   "cell_type": "code",
   "execution_count": 36,
   "metadata": {},
   "outputs": [
    {
     "data": {
      "image/png": "[encoded data removed]",
      "text/plain": [
       "<Figure size 640x480 with 1 Axes>"
      ]
     },
     "metadata": {},
     "output_type": "display_data"
    }
   ],
   "source": [
    "import matplotlib.pyplot as plt\n",
    "history_dict = history.history\n",
    "loss_values = history_dict['loss']\n",
    "val_loss_values = history_dict['val_loss']\n",
    "epochs = range(1, len(loss_values) + 1)\n",
    "plt.plot(epochs, loss_values, 'bo', label='Training loss')\n",
    "plt.plot(epochs, val_loss_values, 'b', label='Validation loss')\n",
    "plt.xlabel('Epochs')\n",
    "plt.ylabel('Loss')\n",
    "plt.legend()\n",
    "plt.show()"
   ]
  },
  {
   "cell_type": "markdown",
   "metadata": {},
   "source": [
    "## Visualizing Training and Validation Accuracy\n",
    "\n",
    "- `plt.clf()` is used to clear any previous plots, ensuring a fresh canvas for the new visualization.\n",
    "\n",
    "- `acc_values` and `val_acc_values` are extracted from the `history_dict` to access the training accuracy and validation accuracy values, respectively.\n",
    "\n",
    "- Similar to the previous plot, the x-axis represents the number of epochs, and the y-axis represents the accuracy values.\n",
    "\n",
    "- Blue dots (`'bo'`) indicate the training accuracy at each epoch, and a blue solid line (`'b'`) represents the validation accuracy.\n",
    "\n",
    "- The plot's title is omitted for brevity, but it would typically indicate the accuracy trends during training.\n",
    "\n",
    "It's essential to strike a balance between training long enough to capture meaningful patterns and stopping early to avoid overfitting. This balance might require experimentation and monitoring the training and validation curves to make informed decisions about the optimal number of epochs for your specific model and dataset."
   ]
  },
  {
   "cell_type": "code",
   "execution_count": 37,
   "metadata": {},
   "outputs": [
    {
     "data": {
      "image/png": "[encoded data removed]",
      "text/plain": [
       "<Figure size 640x480 with 1 Axes>"
      ]
     },
     "metadata": {},
     "output_type": "display_data"
    }
   ],
   "source": [
    "plt.clf() # clear figure\n",
    "acc_values = history_dict['accuracy']\n",
    "val_acc_values = history_dict['val_accuracy']\n",
    "plt.plot(epochs, acc_values, 'bo', label='Training accuracy')\n",
    "plt.plot(epochs, val_acc_values, 'b', label='Validation accuracy')\n",
    "plt.xlabel('Epochs')\n",
    "plt.ylabel('Accuracy')\n",
    "plt.legend()\n",
    "plt.show()\n"
   ]
  }
 ],
 "metadata": {
  "kernelspec": {
   "display_name": ".venv",
   "language": "python",
   "name": "python3"
  },
  "language_info": {
   "codemirror_mode": {
    "name": "ipython",
    "version": 3
   },
   "file_extension": ".py",
   "mimetype": "text/x-python",
   "name": "python",
   "nbconvert_exporter": "python",
   "pygments_lexer": "ipython3",
   "version": "3.10.12"
  },
  "orig_nbformat": 4
 },
 "nbformat": 4,
 "nbformat_minor": 2
}
